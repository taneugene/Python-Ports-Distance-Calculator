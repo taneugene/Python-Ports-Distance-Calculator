{
 "cells": [
  {
   "cell_type": "code",
   "execution_count": 3,
   "metadata": {},
   "outputs": [],
   "source": [
    "import gdal, osr\n",
    "from skimage.graph import route_through_array \n",
    "import numpy as np\n",
    "from geopy.distance import vincenty\n",
    "import matplotlib.pyplot as plt\n",
    "import pandas as pd\n",
    "%matplotlib inline"
   ]
  },
  {
   "cell_type": "code",
   "execution_count": 4,
   "metadata": {},
   "outputs": [
    {
     "data": {
      "image/png": "[encoded data removed]",
      "text/plain": [
       "<Figure size 432x288 with 1 Axes>"
      ]
     },
     "metadata": {
      "needs_background": "light"
     },
     "output_type": "display_data"
    }
   ],
   "source": [
    "#Transforming a raster map to array datatype.\n",
    "raster = gdal.Open('map.tif')\n",
    "band = raster.GetRasterBand(1)\n",
    "mapArray = band.ReadAsArray()\n",
    "\n",
    "#Visualize the map base on the array, if you want, not neccessary.\n",
    "plt.imshow(mapArray)\n",
    "plt.gray()\n",
    "plt.show()"
   ]
  },
  {
   "cell_type": "code",
   "execution_count": 6,
   "metadata": {},
   "outputs": [
    {
     "name": "stdout",
     "output_type": "stream",
     "text": [
      "(-180.0, 0.3333333333333333, 0.0, 90.0, 0.0, -0.3333333333333333)\n"
     ]
    }
   ],
   "source": [
    "#Get geotransform information and declare some variables for later use\n",
    "geotransform = raster.GetGeoTransform()\n",
    "# https://www.gdal.org/classGDALDataset.html\n",
    "originX = geotransform[0]\n",
    "originY = geotransform[3] \n",
    "pixelWidth = geotransform[1] \n",
    "pixelHeight = geotransform[5]\n",
    "ports = pd.read_csv('port.csv')\n",
    "print(geotransform)"
   ]
  },
  {
   "cell_type": "code",
   "execution_count": null,
   "metadata": {},
   "outputs": [],
   "source": [
    "#transform the coordinates to the exact position in the array.\n",
    "def coord2pixelOffset(x,y):\n",
    "    \n",
    "    xOffset = int((x - originX)/pixelWidth)\n",
    "    yOffset = int((y - originY)/pixelHeight)\n",
    "    return xOffset,yOffset\n",
    "\n",
    "#create a path which travels through the cost map.\n",
    "def createPath(costSurfaceArray,startCoord,stopCoord):   \n",
    "\n",
    "    # coordinates to array index\n",
    "    startCoordX = startCoord[0]\n",
    "    startCoordY = startCoord[1]\n",
    "    startIndexX,startIndexY = coord2pixelOffset(startCoordX,startCoordY)\n",
    "\n",
    "    stopCoordX = stopCoord[0]\n",
    "    stopCoordY = stopCoord[1]\n",
    "    stopIndexX,stopIndexY = coord2pixelOffset(stopCoordX,stopCoordY)\n",
    "\n",
    "    # create path\n",
    "    indices, weight = route_through_array(costSurfaceArray, (startIndexY,startIndexX), (stopIndexY,stopIndexX),geometric=True,fully_connected=True)\n",
    "    indices = np.array(indices).T\n",
    "    indices = indices.astype(float)\n",
    "    indices[1] = indices[1]*pixelWidth + originX\n",
    "    indices[0] = indices[0]*pixelHeight + originY\n",
    "    return indices\n",
    "\n",
    "#Calculate the vincenty distance starts from the first pair of points to the last.\n",
    "def calculateDistance(pathIndices):\n",
    "    distance = 0\n",
    "    for i in range(0,(len(pathIndices[0])-1)):\n",
    "        distance += vincenty((pathIndices[1,i], pathIndices[0,i]), (pathIndices[1,i+1], pathIndices[0,i+1])).miles*0.868976\n",
    "    return distance\n",
    "\n",
    "\n",
    "def distanceCalculator(startCoord, stopCoord):\n",
    "    pathIndices = createPath(mapArray,startCoord,stopCoord)\n",
    "    distance = calculateDistance(pathIndices)\n",
    "    print(distance)\n",
    "    return distance\n",
    "\n",
    "\n",
    "#Test, in this case it's from CATANIA to MANTA\n",
    "ports.Port[1000]\n",
    "startCoord = (ports.longitude[2205], ports.latitude[2205])\n",
    "stopCoord = (ports.longitude[1000], ports.latitude[100])\n",
    "\n",
    "distanceCalculator(startCoord, stopCoord)"
   ]
  }
 ],
 "metadata": {
  "kernelspec": {
   "display_name": "Python 3",
   "language": "python",
   "name": "python3"
  },
  "language_info": {
   "codemirror_mode": {
    "name": "ipython",
    "version": 3
   },
   "file_extension": ".py",
   "mimetype": "text/x-python",
   "name": "python",
   "nbconvert_exporter": "python",
   "pygments_lexer": "ipython3",
   "version": "3.6.6"
  }
 },
 "nbformat": 4,
 "nbformat_minor": 2
}
